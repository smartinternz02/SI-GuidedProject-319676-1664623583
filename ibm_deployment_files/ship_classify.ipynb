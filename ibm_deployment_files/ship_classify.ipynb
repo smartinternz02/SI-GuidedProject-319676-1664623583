{
 "cells": [
  {
   "cell_type": "code",
   "execution_count": null,
   "id": "ac339b73",
   "metadata": {},
   "outputs": [],
   "source": [
    "!pip install watson-machine-learning-client"
   ]
  },
  {
   "cell_type": "code",
   "execution_count": null,
   "id": "8dda351c",
   "metadata": {},
   "outputs": [],
   "source": [
    "from ibm_watson_machine_learning import APIClient\n",
    "wml_credentials={\n",
    "    \"url\":\"https://us-south.ml.cloud.ibm.com\",\n",
    "    \"apikey\":\"7UkMQWp7TXUq1_3WtifHKtlNfWYX_kEACcs-hwoMNFtZ\"\n",
    "}\n",
    "client=APIClient(wml_credentials)"
   ]
  },
  {
   "cell_type": "code",
   "execution_count": null,
   "id": "11439eeb",
   "metadata": {},
   "outputs": [],
   "source": [
    "def guid_from_space_name(client,space_name):\n",
    "    space=client.spaces.get_details()\n",
    "    return(next(item for item in space['resource'] if item['entity'][\"name\"]==space_name)['metadata']['id'])"
   ]
  },
  {
   "cell_type": "code",
   "execution_count": null,
   "id": "81cb48f8",
   "metadata": {},
   "outputs": [],
   "source": [
    "space_uid=guid_from_space_name(client,'shipclassification')\n",
    "print(\"space UID =\" + space_uid)"
   ]
  },
  {
   "cell_type": "code",
   "execution_count": null,
   "id": "63a035dd",
   "metadata": {},
   "outputs": [],
   "source": [
    "client.set.default_space(space_uid)"
   ]
  },
  {
   "cell_type": "code",
   "execution_count": null,
   "id": "323722a8",
   "metadata": {},
   "outputs": [],
   "source": [
    "client.repository.download(\"1cf3073e-a8e3-4a1c-af54-586de067eb70\",'ship-classification.tar.gz')"
   ]
  },
  {
   "cell_type": "code",
   "execution_count": null,
   "id": "6c4a58de",
   "metadata": {},
   "outputs": [],
   "source": [
    "from keras.models import load_model\n",
    "from keras.preprocessing import images"
   ]
  },
  {
   "cell_type": "code",
   "execution_count": null,
   "id": "6a364313",
   "metadata": {},
   "outputs": [],
   "source": [
    "model=load_model(\"vgg16-ship-classification.h5\")"
   ]
  },
  {
   "cell_type": "code",
   "execution_count": null,
   "id": "cc1b8396",
   "metadata": {},
   "outputs": [],
   "source": [
    "img=image.load_img(\"F:\\Ship Classification\\dataset\\test\\Cargo.jpg\",target_size=(64,64))"
   ]
  },
  {
   "cell_type": "code",
   "execution_count": null,
   "id": "f0f1e388",
   "metadata": {},
   "outputs": [],
   "source": [
    "import numpy as np\n",
    "x=image.img_to_array(img)\n",
    "x=np.expand_dims(x,axis=0)"
   ]
  },
  {
   "cell_type": "code",
   "execution_count": null,
   "id": "a6740a02",
   "metadata": {},
   "outputs": [],
   "source": [
    "x.shape"
   ]
  },
  {
   "cell_type": "code",
   "execution_count": null,
   "id": "2823085b",
   "metadata": {},
   "outputs": [],
   "source": [
    "pred=model.predict_classes(x)"
   ]
  },
  {
   "cell_type": "code",
   "execution_count": null,
   "id": "a7fc0ca2",
   "metadata": {},
   "outputs": [],
   "source": [
    "pred[0]"
   ]
  },
  {
   "cell_type": "code",
   "execution_count": null,
   "id": "5c731750",
   "metadata": {},
   "outputs": [],
   "source": [
    "index=['cargo','carrier','cruise','military','tankers']"
   ]
  },
  {
   "cell_type": "code",
   "execution_count": null,
   "id": "34f9f347",
   "metadata": {},
   "outputs": [],
   "source": [
    "a=index[pred[0]]\n",
    "print(a)"
   ]
  }
 ],
 "metadata": {
  "kernelspec": {
   "display_name": "Python 3 (ipykernel)",
   "language": "python",
   "name": "python3"
  },
  "language_info": {
   "codemirror_mode": {
    "name": "ipython",
    "version": 3
   },
   "file_extension": ".py",
   "mimetype": "text/x-python",
   "name": "python",
   "nbconvert_exporter": "python",
   "pygments_lexer": "ipython3",
   "version": "3.9.12"
  }
 },
 "nbformat": 4,
 "nbformat_minor": 5
}
